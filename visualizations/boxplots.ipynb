{
 "cells": [
  {
   "cell_type": "code",
   "execution_count": 1,
   "metadata": {},
   "outputs": [],
   "source": [
    "\"\"\"\n",
    "Name: Ciaran Cooney\n",
    "Date: 12/01/2019\n",
    "Description: Notebook for drawing boxplots for arrays of accuracy scores.\n",
    "Style, colour and font options can be customised.\n",
    "\"\"\"\n",
    "\n",
    "\n",
    "import numpy as np\n",
    "import matplotlib as mpl\n",
    "\n",
    "mpl.use('Qt5Agg') # backend creates plot as .png\n",
    "\n",
    "import matplotlib.pyplot as plt"
   ]
  },
  {
   "cell_type": "code",
   "execution_count": 2,
   "metadata": {},
   "outputs": [],
   "source": [
    "# sample data\n",
    "svm = np.array([59.95,60.00,64.68,62.86,64.68,59.33,57.78,64.68,63.41,64.68,63.27,63.27,63.27,67.05,57.78])\n",
    "shfbcsp = np.array([72.36,76.79,70.71,64.07,67.14,63.52,63.65,69.61,68.75,67.71,74.14,68,76.14,72.74,69.87])\n",
    "deep4net = np.array([61.97,80.36,70.86,58.39,64.04,61.43,60.74,67.93,66.25,59.79,65.12,68.21,70.79,68.39,61.52])\n",
    "eegnet = np.array([64.93,80.36,67.92,64.08,71.70,56.25,65.96,65.09,65.25,65.09,70.64,68.81,68.81,71.93,62.5])\n",
    "\n",
    "#Combine data into list\n",
    "data_to_plot = [svm, shfbcsp, deep4net, eegnet]"
   ]
  },
  {
   "cell_type": "code",
   "execution_count": 7,
   "metadata": {},
   "outputs": [],
   "source": [
    "fig = plt.figure(1, figsize=(9, 6))\n",
    "ax = fig.add_subplot(111)\n",
    "                     \n",
    "ax.set_xticklabels(['SVM','Shallow', 'Deep', 'EEGNet'], fontsize='large', fontname='sans-serif')\n",
    "plt.style.use('seaborn-whitegrid')\n",
    "plt.ylim(55,85) # set y-axis limits\n",
    "\n",
    "ax.get_xaxis().tick_bottom()\n",
    "ax.get_yaxis().tick_left()\n",
    "ax.set_xlabel('Network Architecture', fontsize='large', fontname='sans-serif')\n",
    "ax.set_ylabel('Classification Accuracy (%)', fontsize='large', fontname='sans-serif')\n",
    "ax.set_title('Classification accuracy for imagined speech vowel production,' + '\\n' + ' for SVM and three CNN architectures')\n",
    "bp = ax.boxplot(data_to_plot, patch_artist=True, labels=['SVM','Shallow','Deep','EEGNet'])\n",
    "\n",
    "colors = ['#66ccff', '#9966ff', '#00ff99', '#ffcc00']\n",
    "for patch, color in zip(bp['boxes'], colors):\n",
    "    patch.set_facecolor(color)\n",
    "    \n",
    "for whisker in bp['whiskers']:\n",
    "    whisker.set(color='#7570b3', linewidth=2)\n",
    "    \n",
    "for cap in bp['caps']:\n",
    "    cap.set(color='#7570b3', linewidth=2)\n",
    "\n",
    "for median in bp['medians']:\n",
    "    median.set(color='#ff3300', linewidth=2)\n",
    "    \n",
    "for flier in bp['fliers']:\n",
    "    flier.set(marker='o', color='#e7298a', alpha=0.5)\n",
    "                     \n",
    "fig.show()\n",
    "#fig.savefig('results_folder/results/viz/box_plot.png', bbox_inches='tight')"
   ]
  },
  {
   "cell_type": "code",
   "execution_count": null,
   "metadata": {},
   "outputs": [],
   "source": []
  }
 ],
 "metadata": {
  "kernelspec": {
   "display_name": "Python 3",
   "language": "python",
   "name": "python3"
  },
  "language_info": {
   "codemirror_mode": {
    "name": "ipython",
    "version": 3
   },
   "file_extension": ".py",
   "mimetype": "text/x-python",
   "name": "python",
   "nbconvert_exporter": "python",
   "pygments_lexer": "ipython3",
   "version": "3.6.4"
  }
 },
 "nbformat": 4,
 "nbformat_minor": 2
}
