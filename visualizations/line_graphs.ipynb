{
 "cells": [
  {
   "cell_type": "code",
   "execution_count": 1,
   "metadata": {},
   "outputs": [],
   "source": [
    "\"\"\"\n",
    "Name: Ciaran Cooney\n",
    "Date: 12/01/2019\n",
    "Description: Notebook for drawing line graphs for arrays of accuracy scores.\n",
    "Style, colour and font options can be customised.\n",
    "\"\"\"\n",
    "\n",
    "\n",
    "import numpy as np\n",
    "import matplotlib as mpl\n",
    "\n",
    "mpl.use('Qt5Agg') # backend creates plot as .png\n",
    "\n",
    "import matplotlib.pyplot as plt"
   ]
  },
  {
   "cell_type": "code",
   "execution_count": null,
   "metadata": {},
   "outputs": [],
   "source": [
    "# sample data\n",
    "svm = np.array([59.95,60.00,64.68,62.86,64.68,59.33,57.78,64.68,63.41,64.68,63.27,63.27,63.27,67.05,57.78])\n",
    "shfbcsp = np.array([72.36,76.79,70.71,64.07,67.14,63.52,63.65,69.61,68.75,67.71,74.14,68,76.14,72.74,69.87])\n",
    "deep4net = np.array([61.97,80.36,70.86,58.39,64.04,61.43,60.74,67.93,66.25,59.79,65.12,68.21,70.79,68.39,61.52])\n",
    "eegnet = np.array([64.93,80.36,67.92,64.08,71.70,56.25,65.96,65.09,65.25,65.09,70.64,68.81,68.81,71.93,62.5])\n",
    "\n",
    "#Combine data into list\n",
    "data_to_plot = [svm, shfbcsp, deep4net, eegnet]"
   ]
  },
  {
   "cell_type": "code",
   "execution_count": null,
   "metadata": {},
   "outputs": [],
   "source": [
    "fig = plt.figure(1, figsize=(9, 6))\n",
    "ax = fig.add_subplot(111)\n",
    "plt.style.use('seaborn-whitegrid')\n",
    "fig = plt.figure(1, figsize=(9, 6))\n",
    "ax = plt.axes()\n",
    "plt.ylim(0, 100)\n",
    "plt.xlabel('Subject Number', fontsize='large', fontname='sans-serif')\n",
    "plt.ylabel('Classification Accuracy (%)', fontsize='large', fontname='sans-serif')\n",
    "plt.title('Cross-subject classification accuracies (vowels) for' + '\\n' + 'SVM and the three CNN networks')\n",
    "x = np.linspace(1,15,15)\n",
    "\n",
    "plt.plot(x, svm, color='#66ccff', label='SVM', marker='o' )\n",
    "\n",
    "plt.plot(x, shfbcsp,color='#9966ff', label='Shallow', marker='x')\n",
    "\n",
    "plt.plot(x, deep4net, color='#00ff99', label='Deep', marker='s')\n",
    "\n",
    "plt.plot(x, eegnet, color='#ffcc00', label='EEGNet', marker='*')\n",
    "\n",
    "ax.axhline(y=20, color='#ff3300', linestyle='--', label='chance accuracy') # set to required value\n",
    "ax.xaxis.set_major_locator(plt.MaxNLocator(16))\n",
    "\n",
    "plt.legend(bbox_to_anchor=(0.98,0.51), loc=1, borderaxespad=0.0)\n",
    "plt.show()\n",
    "fig.savefig('results_folder/results/viz/line_graph.png', bbox_inches='tight')"
   ]
  }
 ],
 "metadata": {
  "kernelspec": {
   "display_name": "Python 3",
   "language": "python",
   "name": "python3"
  },
  "language_info": {
   "codemirror_mode": {
    "name": "ipython",
    "version": 3
   },
   "file_extension": ".py",
   "mimetype": "text/x-python",
   "name": "python",
   "nbconvert_exporter": "python",
   "pygments_lexer": "ipython3",
   "version": "3.6.4"
  }
 },
 "nbformat": 4,
 "nbformat_minor": 2
}
